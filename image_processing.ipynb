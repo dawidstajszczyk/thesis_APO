{
  "nbformat": 4,
  "nbformat_minor": 0,
  "metadata": {
    "colab": {
      "provenance": [],
      "include_colab_link": true
    },
    "kernelspec": {
      "name": "python3",
      "display_name": "Python 3"
    },
    "language_info": {
      "name": "python"
    }
  },
  "cells": [
    {
      "cell_type": "markdown",
      "metadata": {
        "id": "view-in-github",
        "colab_type": "text"
      },
      "source": [
        "<a href=\"https://colab.research.google.com/github/dawidstajszczyk/thesis_APO/blob/main/image_processing.ipynb\" target=\"_parent\"><img src=\"https://colab.research.google.com/assets/colab-badge.svg\" alt=\"Open In Colab\"/></a>"
      ]
    },
    {
      "cell_type": "markdown",
      "source": [
        "Ekstrakcja danych ze strony: https://www.kaggle.com/datasets/dawidstajszczyk00/dice-r0ll"
      ],
      "metadata": {
        "id": "MuyvRAROwLMA"
      }
    },
    {
      "cell_type": "code",
      "source": [
        "import zipfile\n",
        "import os\n",
        "from google.colab import drive\n",
        "\n",
        "# Montuj Google Drive\n",
        "drive.mount('/content/drive')\n",
        "\n",
        "# Skopiuj plik kaggle.json do środowiska Colab\n",
        "!cp '/content/drive/MyDrive/kaggle/kaggle.json' '/content'\n",
        "os.environ['KAGGLE_CONFIG_DIR'] = \"/content\"\n",
        "\n",
        "# Pobierz zestaw danych\n",
        "!kaggle datasets download -d dawidstajszczyk00/dice-r0ll\n",
        "\n",
        "# Ścieżka do katalogu, gdzie znajduje się pobrany plik ZIP\n",
        "zip_file_path = '/content/dice-r0ll.zip'\n",
        "\n",
        "# Katalog docelowy dla rozpakowwanych danych\n",
        "extracted_folder_path = '/content/extracted_images'\n",
        "\n",
        "# Rozpakuj plik ZIP\n",
        "with zipfile.ZipFile(zip_file_path, 'r') as zip_ref:\n",
        "    zip_ref.extractall(extracted_folder_path)"
      ],
      "metadata": {
        "id": "pu-WhzzuwNPP",
        "outputId": "d878c116-b464-47d8-ea6e-8b4367db0b78",
        "colab": {
          "base_uri": "https://localhost:8080/"
        }
      },
      "execution_count": 1,
      "outputs": [
        {
          "output_type": "stream",
          "name": "stdout",
          "text": [
            "Mounted at /content/drive\n",
            "Downloading dice-r0ll.zip to /content\n",
            " 99% 180M/182M [00:02<00:00, 116MB/s] \n",
            "100% 182M/182M [00:02<00:00, 90.3MB/s]\n"
          ]
        }
      ]
    },
    {
      "cell_type": "markdown",
      "source": [
        "Wyodrębnienie losowych próbek do zbioru testowego"
      ],
      "metadata": {
        "id": "j72cUqMl2GID"
      }
    },
    {
      "cell_type": "code",
      "source": [
        "from sklearn.model_selection import train_test_split\n",
        "import os\n",
        "import random\n",
        "\n",
        "# Ścieżka do foldera zawierającego klasy\n",
        "base_path = '/content/extracted_images/dataset/'\n",
        "\n",
        "# Lista klas\n",
        "classes = ['1', '2', '3', '4', '5', '6']\n",
        "\n",
        "# Lista zawierająca pełne ścieżki do folderów klas\n",
        "class_paths = [os.path.join(base_path, class_name) for class_name in classes]\n",
        "\n",
        "# Ścieżka do foldera testowego\n",
        "test_path = os.path.join(extracted_folder_path, \"test\")\n",
        "\n",
        "# Utwórz folder testowy, jeśli nie istnieje\n",
        "os.makedirs(test_path, exist_ok=True)\n",
        "\n",
        "\n",
        "# Podział każdego folderu klasy na zbiór treningowy i testowy\n",
        "for class_path in class_paths:\n",
        "    images = os.listdir(class_path)\n",
        "\n",
        "    _, test_images = train_test_split(images, test_size=0.02, random_state=42)\n",
        "\n",
        "    # Przenieś odpowiednie obrazy do folderu testowego\n",
        "    for test_image in test_images:\n",
        "        src_path = os.path.join(class_path, test_image)\n",
        "        dest_path = os.path.join(test_path, test_image)\n",
        "        os.rename(src_path, dest_path)\n",
        "\n",
        "# Po dodaniu obrazów do zbioru testowego, wymieszaj je\n",
        "test_images = os.listdir(test_path)\n",
        "random.shuffle(test_images)"
      ],
      "metadata": {
        "id": "q4Aucg460XZ3"
      },
      "execution_count": 2,
      "outputs": []
    },
    {
      "cell_type": "markdown",
      "source": [
        "Przetwarzanie obrazów - ciało funkcji"
      ],
      "metadata": {
        "id": "rI-ur2-bwgv_"
      }
    },
    {
      "cell_type": "code",
      "source": [
        "import cv2\n",
        "import numpy as np\n",
        "from google.colab.patches import cv2_imshow\n",
        "\n",
        "def count_black_dots(image_path):\n",
        "    # Wczytanie obrazu\n",
        "    image = cv2.imread(image_path)\n",
        "\n",
        "    # Przekształcenie obrazu na odcienie szarości\n",
        "    gray = cv2.cvtColor(image, cv2.COLOR_BGR2GRAY)\n",
        "\n",
        "    # Rozmycie Gaussowskie w celu wygładzenia krawędzi\n",
        "    blurred = cv2.GaussianBlur(gray, (5, 5), 0)\n",
        "\n",
        "    # Binaryzacja obrazu (czarne kropki będą miały wartość 0)\n",
        "    _, binary = cv2.threshold(gray, 40, 255, cv2.THRESH_BINARY)\n",
        "\n",
        "    # Detekcja krawędzi w obrazie\n",
        "    edges = cv2.Canny(binary, 50, 150)\n",
        "\n",
        "    # Zastosowanie dylatacji w celu połączenia ewentualnych przerw w krawędziach\n",
        "    kernel = np.ones((5, 5), np.uint8)\n",
        "    dilated = cv2.dilate(edges, kernel, iterations=1)\n",
        "\n",
        "    # Znalezienie konturów w obrazie\n",
        "    cnt, _ = cv2.findContours(dilated, cv2.RETR_EXTERNAL, cv2.CHAIN_APPROX_SIMPLE)\n",
        "\n",
        "    # Rysowanie konturów\n",
        "    cv2.drawContours(dilated, cnt, -1, (0, 255, 0), 2)\n",
        "\n",
        "    # Zliczenie czarnych kropek na podstawie pola powierzchni i kolistości\n",
        "    black_dot_count = 0\n",
        "    for contour in cnt:\n",
        "        area = cv2.contourArea(contour)\n",
        "        if area < 100:  # Minimalna wielkość obszaru, aby uznać go za czarną kropkę\n",
        "            continue\n",
        "\n",
        "        # Sprawdzenie, czy kontur jest zbliżony do kształtu okręgu\n",
        "        perimeter = cv2.arcLength(contour, True)\n",
        "        circularity = 4 * np.pi * area / (perimeter * perimeter)\n",
        "        if circularity > 0.8:  # Określ próg, powyżej którego uznajemy kształt za okrągły\n",
        "            black_dot_count += 1\n",
        "\n",
        "    return dilated, black_dot_count"
      ],
      "metadata": {
        "id": "2jnFUvjfwjGE"
      },
      "execution_count": 9,
      "outputs": []
    },
    {
      "cell_type": "markdown",
      "source": [
        "Przetwarzanie obrazów + klasyfikacja"
      ],
      "metadata": {
        "id": "S31IDNh2FFoU"
      }
    },
    {
      "cell_type": "code",
      "execution_count": 14,
      "metadata": {
        "id": "ZUVlT1XxmI3M",
        "colab": {
          "base_uri": "https://localhost:8080/"
        },
        "outputId": "cb712735-11c7-4fb5-d8e1-b4a62fc9ced7"
      },
      "outputs": [
        {
          "output_type": "stream",
          "name": "stdout",
          "text": [
            "Images processed and saved to processed_images folder\n"
          ]
        }
      ],
      "source": [
        "from skimage import io, color\n",
        "import shutil\n",
        "\n",
        "# Wyczyść workspace\n",
        "#folder_path = '/content/extracted_images/processed_images'\n",
        "#shutil.rmtree(folder_path, ignore_errors=True)\n",
        "\n",
        "\n",
        "# Ścieżka, w którym zostaną umieszczone przetworzone obrazy\n",
        "processed_path = '/content/extracted_images/processed_images/'\n",
        "\n",
        "# Utwórz folder processed_images, jeśli nie istnieje\n",
        "os.makedirs(processed_path, exist_ok=True)\n",
        "\n",
        "# Zmienna przechowująca nazwy zdjęć ze zbioru testowego\n",
        "image_files = os.listdir(test_path)\n",
        "\n",
        "# Zmienna przechowująca przewidywaną liczbę wyrzuconych oczek\n",
        "predictions = []\n",
        "\n",
        "for image_file in image_files:\n",
        "    # Ścieżka do zdjęcia ze zbioru testowego\n",
        "    image_path = os.path.join(test_path, image_file)\n",
        "\n",
        "    if os.path.isfile(image_path):\n",
        "        # Przetwórz obraz\n",
        "        processed_image, dots_num = count_black_dots(image_path)\n",
        "\n",
        "        # Utwórz ścieżkę dla obrazu przetworzonego\n",
        "        processed_image_path = os.path.join(processed_path, image_file)\n",
        "\n",
        "        # Zapisz przetworzony obraz w folderze processed_images\n",
        "        io.imsave(processed_image_path, processed_image.astype(np.uint8), check_contrast=False)\n",
        "\n",
        "        # Dodaj przewidywaną liczbę wyrzuconych oczek\n",
        "        predictions.append({'image': image_file, 'count': dots_num})\n",
        "\n",
        "    else:\n",
        "        print(\"Incorrect file.\")\n",
        "\n",
        "print(\"Images processed and saved to processed_images folder\")"
      ]
    },
    {
      "cell_type": "markdown",
      "source": [
        "Podsumowanie klasyfikacji"
      ],
      "metadata": {
        "id": "aGqbBSxS8n0q"
      }
    },
    {
      "cell_type": "code",
      "source": [
        "for result in predictions:\n",
        "  print(f\"Image {result['image']} was classified as {result['count']}\")"
      ],
      "metadata": {
        "id": "97S-SCnuG1u3",
        "outputId": "888cfd89-1b53-4aa5-cdac-415e4799c2c8",
        "colab": {
          "base_uri": "https://localhost:8080/"
        }
      },
      "execution_count": 16,
      "outputs": [
        {
          "output_type": "stream",
          "name": "stdout",
          "text": [
            "Image IMG_6445.JPEG was classified as 5\n",
            "Image IMG_6988.JPEG was classified as 1\n",
            "Image IMG_6397.JPEG was classified as 6\n",
            "Image IMG_6682.JPEG was classified as 4\n",
            "Image IMG_6783.JPEG was classified as 3\n",
            "Image IMG_6901.JPEG was classified as 2\n",
            "Image IMG_6365.JPEG was classified as 6\n",
            "Image IMG_6937.JPEG was classified as 2\n",
            "Image IMG_7025.JPEG was classified as 1\n",
            "Image IMG_6514.JPEG was classified as 5\n",
            "Image IMG_6576.JPEG was classified as 4\n",
            "Image IMG_6720.JPEG was classified as 3\n"
          ]
        }
      ]
    },
    {
      "cell_type": "markdown",
      "source": [
        "Proces przetwarzania obrazów:\n",
        "1. Ładowanie obrazu\n",
        "2. Konwersja do skali szarości\n",
        "3. Rozmycie Gaussowskie\n",
        "4. Binaryzacja obrazu\n",
        "5. Detekcja krawędzi\n",
        "6. Dylatacja\n",
        "7. Znalezenie konturów\n",
        "7. Klasyfikacja konturów na podstawie obszaru i kolistości"
      ],
      "metadata": {
        "id": "BwmSMEpbuHzO"
      }
    },
    {
      "cell_type": "markdown",
      "source": [
        "Co dalej?\n",
        "1. Stworzyć nowy dataset z różnorodnym tłem - 100 zdjęć na klasę\n",
        "2. Użyć 2-3% zbioru na klasyfikację wykorzystującą APO.\n",
        "\t- podzielić dane na zbiór treningowy/testowy (chyba najprościej)\n",
        "\t- pomieszać dane przed podziałem\n",
        "\t- wykonać klasyfikację\n",
        "\t- sprawdzić dokładność ręcznie lub jak jest czas zautomatyzować to.\n",
        "3. Użyć 100% zbioru do treningu i klasyfikacji wykorzystującą ML.\n"
      ],
      "metadata": {
        "id": "Z5Hrsh6_J4jx"
      }
    }
  ]
}