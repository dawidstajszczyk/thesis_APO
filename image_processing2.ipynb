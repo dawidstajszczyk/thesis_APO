{
  "nbformat": 4,
  "nbformat_minor": 0,
  "metadata": {
    "colab": {
      "provenance": [],
      "include_colab_link": true
    },
    "kernelspec": {
      "name": "python3",
      "display_name": "Python 3"
    },
    "language_info": {
      "name": "python"
    }
  },
  "cells": [
    {
      "cell_type": "markdown",
      "metadata": {
        "id": "view-in-github",
        "colab_type": "text"
      },
      "source": [
        "<a href=\"https://colab.research.google.com/github/dawidstajszczyk/thesis_APO/blob/main/image_processing2.ipynb\" target=\"_parent\"><img src=\"https://colab.research.google.com/assets/colab-badge.svg\" alt=\"Open In Colab\"/></a>"
      ]
    },
    {
      "cell_type": "markdown",
      "source": [
        "Ekstrakcja danych ze strony: https://www.kaggle.com/datasets/dawidstajszczyk00/dice-r0ll"
      ],
      "metadata": {
        "id": "MuyvRAROwLMA"
      }
    },
    {
      "cell_type": "code",
      "source": [
        "import zipfile\n",
        "import os\n",
        "from google.colab import drive\n",
        "import shutil\n",
        "\n",
        "# Wyczyść workspace\n",
        "folder_path = '/content/extracted_images'\n",
        "shutil.rmtree(folder_path, ignore_errors=True)\n",
        "\n",
        "# Montuj Google Drive\n",
        "drive.mount('/content/drive')\n",
        "\n",
        "# Skopiuj plik kaggle.json do środowiska Colab\n",
        "!cp '/content/drive/MyDrive/kaggle/kaggle.json' '/content'\n",
        "os.environ['KAGGLE_CONFIG_DIR'] = \"/content\"\n",
        "\n",
        "# Pobierz zestaw danych\n",
        "!kaggle datasets download -d dawidstajszczyk00/dice-roll\n",
        "\n",
        "# Ścieżka do katalogu, gdzie znajduje się pobrany plik ZIP\n",
        "zip_file_path = '/content/dice-roll.zip'\n",
        "\n",
        "# Katalog docelowy dla rozpakowanych danych\n",
        "extracted_folder_path = '/content/extracted_images'\n",
        "\n",
        "# Rozpakuj plik ZIP\n",
        "with zipfile.ZipFile(zip_file_path, 'r') as zip_ref:\n",
        "    zip_ref.extractall(extracted_folder_path)"
      ],
      "metadata": {
        "id": "pu-WhzzuwNPP",
        "outputId": "7b658ccd-7124-46d5-8a21-27e9f18df8d8",
        "colab": {
          "base_uri": "https://localhost:8080/"
        }
      },
      "execution_count": 1,
      "outputs": [
        {
          "output_type": "stream",
          "name": "stdout",
          "text": [
            "Mounted at /content/drive\n",
            "Warning: Looks like you're using an outdated API Version, please consider updating (server 1.6.14 / client 1.6.12)\n",
            "Dataset URL: https://www.kaggle.com/datasets/dawidstajszczyk00/dice-roll\n",
            "License(s): Apache 2.0\n",
            "Downloading dice-roll.zip to /content\n",
            "100% 574M/577M [00:31<00:00, 23.8MB/s]\n",
            "100% 577M/577M [00:31<00:00, 19.5MB/s]\n"
          ]
        }
      ]
    },
    {
      "cell_type": "markdown",
      "source": [
        "Wyodrębnienie losowych próbek do zbioru testowego"
      ],
      "metadata": {
        "id": "j72cUqMl2GID"
      }
    },
    {
      "cell_type": "code",
      "source": [
        "from sklearn.model_selection import train_test_split\n",
        "import os\n",
        "import random\n",
        "\n",
        "# Wyczyść workspace\n",
        "folder_path = '/content/extracted_images/test'\n",
        "shutil.rmtree(folder_path, ignore_errors=True)\n",
        "\n",
        "# Ścieżka do foldera zawierającego klasy\n",
        "base_path = '/content/extracted_images/'\n",
        "\n",
        "# Lista klas\n",
        "classes = ['1', '2', '3', '4', '5', '6']\n",
        "\n",
        "# Lista zawierająca pełne ścieżki do folderów klas\n",
        "class_paths = [os.path.join(base_path, class_name) for class_name in classes]\n",
        "\n",
        "# Ścieżka do foldera testowego\n",
        "test_path = os.path.join(extracted_folder_path, \"test\")\n",
        "\n",
        "# Utwórz folder testowy, jeśli nie istnieje\n",
        "os.makedirs(test_path, exist_ok=True)\n",
        "\n",
        "# Zmienna przechowująca przewidywaną liczbę wyrzuconych oczek\n",
        "predictions = []\n",
        "\n",
        "# Podział każdego folderu klasy na zbiór treningowy i testowy\n",
        "for i, class_path in enumerate(class_paths):\n",
        "    images = os.listdir(class_path)\n",
        "\n",
        "    _, test_images = train_test_split(images, test_size=0.02, random_state=42)\n",
        "\n",
        "    for test_image in test_images:\n",
        "        # dodaj ścieżkę oraz klasę zdjęcia do listy predictions\n",
        "        predictions.append({'image': test_image, 'class': i+1})\n",
        "\n",
        "        # Przenieś zdjęcie do folderu testowego\n",
        "        src_path = os.path.join(class_path, test_image)\n",
        "        dest_path = os.path.join(test_path, test_image)\n",
        "        os.rename(src_path, dest_path)\n",
        "\n",
        "# Po dodaniu obrazów do zbioru testowego, wymieszaj je\n",
        "test_images = os.listdir(test_path)\n",
        "random.shuffle(test_images)"
      ],
      "metadata": {
        "id": "q4Aucg460XZ3"
      },
      "execution_count": 2,
      "outputs": []
    },
    {
      "cell_type": "markdown",
      "source": [
        "Przetwarzanie obrazów - ciało funkcji"
      ],
      "metadata": {
        "id": "rI-ur2-bwgv_"
      }
    },
    {
      "cell_type": "code",
      "source": [
        "import cv2\n",
        "import numpy as np\n",
        "from google.colab.patches import cv2_imshow\n",
        "\n",
        "def count_black_dots(image_path):\n",
        "    # Wczytanie obrazu\n",
        "    image = cv2.imread(image_path)\n",
        "\n",
        "    # Przekształcenie obrazu na odcienie szarości\n",
        "    gray = cv2.cvtColor(image, cv2.COLOR_BGR2GRAY)\n",
        "\n",
        "    # Rozmycie medianowe w celu wygładzenia krawędzi\n",
        "    blurred = cv2.medianBlur(gray, 25)\n",
        "\n",
        "    minDist = 100\n",
        "    param1 = 30 #500\n",
        "    param2 = 50 #200 #smaller value-> more false circles\n",
        "    minRadius = 5\n",
        "    maxRadius = 100 #10\n",
        "\n",
        "    circles = cv2.HoughCircles(blurred, cv2.HOUGH_GRADIENT, 1, minDist, param1=param1, param2=param2, minRadius=minRadius, maxRadius=maxRadius)\n",
        "\n",
        "    black_dot_count = circles.shape[1]\n",
        "\n",
        "    # Konwersja rozmytego obrazu na format BGR, aby móc rysować kolorowe okręgi\n",
        "    blurred_bgr = cv2.cvtColor(blurred, cv2.COLOR_GRAY2BGR)\n",
        "\n",
        "    if circles is not None:\n",
        "        circles = np.uint16(np.around(circles))\n",
        "        for i in circles[0,:]:\n",
        "            cv2.circle(blurred_bgr, (i[0], i[1]), i[2], (110, 255, 100), 8)\n",
        "\n",
        "    return blurred_bgr, black_dot_count"
      ],
      "metadata": {
        "id": "2jnFUvjfwjGE"
      },
      "execution_count": 22,
      "outputs": []
    },
    {
      "cell_type": "code",
      "execution_count": 23,
      "metadata": {
        "id": "ZUVlT1XxmI3M",
        "colab": {
          "base_uri": "https://localhost:8080/"
        },
        "outputId": "144243e1-c6d8-4dd4-a83d-f8247460b781"
      },
      "outputs": [
        {
          "output_type": "stream",
          "name": "stdout",
          "text": [
            "Images processed and saved to processed_images folder\n"
          ]
        }
      ],
      "source": [
        "from skimage import io, color\n",
        "import shutil\n",
        "\n",
        "\n",
        "# Wyczyść workspace\n",
        "folder_path = '/content/extracted_images/processed_images'\n",
        "shutil.rmtree(folder_path, ignore_errors=True)\n",
        "\n",
        "\n",
        "# Ścieżka, w którym zostaną umieszczone przetworzone obrazy\n",
        "processed_path = '/content/extracted_images/processed_images/'\n",
        "\n",
        "# Utwórz folder processed_images, jeśli nie istnieje\n",
        "os.makedirs(processed_path, exist_ok=True)\n",
        "\n",
        "# Zmienna przechowująca nazwy zdjęć ze zbioru testowego\n",
        "image_files = os.listdir(test_path)\n",
        "\n",
        "for image_file in image_files:\n",
        "    # Ścieżka do zdjęcia ze zbioru testowego\n",
        "    image_path = os.path.join(test_path, image_file)\n",
        "\n",
        "    if os.path.isfile(image_path):\n",
        "        # Przetwórz obraz\n",
        "        processed_image, dots_num = count_black_dots(image_path)\n",
        "\n",
        "        # Utwórz ścieżkę dla obrazu przetworzonego\n",
        "        processed_image_path = os.path.join(processed_path, image_file)\n",
        "\n",
        "        # Zapisz przetworzony obraz w folderze processed_images\n",
        "        io.imsave(processed_image_path, processed_image.astype(np.uint8), check_contrast=False)\n",
        "\n",
        "        # Dodaj przewidywaną liczbę wyrzuconych oczek do listy predictions\n",
        "        for item in predictions:\n",
        "            if item['image'] == image_file:\n",
        "                item['count'] = dots_num\n",
        "                break\n",
        "    else:\n",
        "        print(\"Incorrect file.\")\n",
        "\n",
        "print(\"Images processed and saved to processed_images folder\")"
      ]
    },
    {
      "cell_type": "markdown",
      "source": [
        "Podsumowanie klasyfikacji"
      ],
      "metadata": {
        "id": "aGqbBSxS8n0q"
      }
    },
    {
      "cell_type": "code",
      "source": [
        "cnt = 0;\n",
        "\n",
        "for result in predictions:\n",
        "    print(f\"Image {result['image']} was classified as {result['count']} and was of the class {result['class']}\")\n",
        "    if result['class'] == result['count']: cnt += 1\n",
        "\n",
        "accuracy = cnt / len(predictions)\n",
        "print(\"accuracy: \", accuracy)"
      ],
      "metadata": {
        "id": "97S-SCnuG1u3",
        "outputId": "032fdfa5-af25-4591-e102-757780fc5f0a",
        "colab": {
          "base_uri": "https://localhost:8080/"
        }
      },
      "execution_count": 21,
      "outputs": [
        {
          "output_type": "stream",
          "name": "stdout",
          "text": [
            "Image IMG_9186.JPEG was classified as 1 and was of the class 1\n",
            "Image IMG_9195.JPEG was classified as 1 and was of the class 1\n",
            "Image IMG_7041.JPEG was classified as 1 and was of the class 1\n",
            "Image IMG_9525.JPEG was classified as 2 and was of the class 2\n",
            "Image IMG_9523.JPEG was classified as 3 and was of the class 2\n",
            "Image IMG_6839.JPEG was classified as 2 and was of the class 2\n",
            "Image IMG_9266.JPEG was classified as 3 and was of the class 3\n",
            "Image IMG_9588.JPEG was classified as 3 and was of the class 3\n",
            "Image IMG_9592.JPEG was classified as 9 and was of the class 3\n",
            "Image IMG_6611.JPEG was classified as 4 and was of the class 4\n",
            "Image IMG_9630.JPEG was classified as 9 and was of the class 4\n",
            "Image IMG_9343.JPEG was classified as 4 and was of the class 4\n",
            "Image IMG_9693.JPEG was classified as 5 and was of the class 5\n",
            "Image IMG_9377.JPEG was classified as 5 and was of the class 5\n",
            "Image IMG_9680.JPEG was classified as 7 and was of the class 5\n",
            "Image IMG_6335.JPEG was classified as 6 and was of the class 6\n",
            "Image IMG_6314.JPEG was classified as 6 and was of the class 6\n",
            "Image IMG_9422.JPEG was classified as 6 and was of the class 6\n",
            "accuracy:  0.7777777777777778\n"
          ]
        }
      ]
    },
    {
      "cell_type": "markdown",
      "source": [
        "Proces przetwarzania obrazów:\n",
        "1. Ładowanie obrazu\n",
        "2. Konwersja do skali szarości\n",
        "3. Rozmycie Gaussowskie\n",
        "4. Binaryzacja obrazu\n",
        "5. Detekcja krawędzi\n",
        "6. Dylatacja\n",
        "7. Znalezenie konturów\n",
        "7. Klasyfikacja konturów na podstawie obszaru i kolistości"
      ],
      "metadata": {
        "id": "BwmSMEpbuHzO"
      }
    },
    {
      "cell_type": "markdown",
      "source": [
        "Co dalej?\n",
        "1. Stworzyć nowy dataset z różnorodnym tłem - 100 zdjęć na klasę\n",
        "\t- zrób te zdjęcia od nowa, raczej nie opłaca się przerabiać istniejących\n",
        "2. Użyć 2-3% zbioru na klasyfikację wykorzystującą APO.\n",
        "3. Użyć 100% zbioru do treningu i klasyfikacji wykorzystującą ML.\n"
      ],
      "metadata": {
        "id": "Z5Hrsh6_J4jx"
      }
    }
  ]
}